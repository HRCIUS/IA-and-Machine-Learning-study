{
 "cells": [
  {
   "attachments": {},
   "cell_type": "markdown",
   "metadata": {},
   "source": [
    "PRODUTOS"
   ]
  },
  {
   "cell_type": "code",
   "execution_count": 229,
   "metadata": {},
   "outputs": [],
   "source": [
    "produtos = [[\"Refrigerador A\", 0.751, 999.90],[\"Celular\", 0.0000899, 2199.12], [\"TV 55'\", 0.4, 4346.99], [\"TV 50'\", 0.29, 3999.90], [\"TV 42'\", 0.2, 2999.90], ['Notebook A', 0.0035, 2499.90], ['Ventilador', 0.496, 199.90], [\"Microondas A\", 0.0424, 308.66], [\"Microondas B\", 0.0544, 429.90], [\"Microondas C\", 0.0319, 299.29], [\"Refrigerador B\", 0.635, 849], [\"Refrigerador C\", 0.870, 1199.89], [\"Notebook B\", 0.498, 1999.90], [\"Notebook C\", 0.527, 3999]]\n",
    "\n",
    "caminhao = []"
   ]
  },
  {
   "attachments": {},
   "cell_type": "markdown",
   "metadata": {},
   "source": [
    "FITNESS_FUNCTION"
   ]
  },
  {
   "cell_type": "code",
   "execution_count": 231,
   "metadata": {},
   "outputs": [],
   "source": [
    "def fitness_function(selecao):\n",
    "    id_produto = 0\n",
    "    total_preco = 0\n",
    "    total_espaco = 0\n",
    "    for i in selecao:\n",
    "        if i == 1:\n",
    "            if total_espaco + produtos[id_produto][1] > 3:\n",
    "                total_preco = 1\n",
    "                return total_preco\n",
    "            else:\n",
    "                total_espaco += produtos[id_produto][1]\n",
    "                total_preco += produtos[id_produto][2]\n",
    "                caminhao.append(produtos[id_produto])\n",
    "        id_produto += 1\n",
    "    return total_preco\n"
   ]
  },
  {
   "cell_type": "code",
   "execution_count": 232,
   "metadata": {},
   "outputs": [
    {
     "data": {
      "text/plain": [
       "16706.37"
      ]
     },
     "execution_count": 232,
     "metadata": {},
     "output_type": "execute_result"
    }
   ],
   "source": [
    "#EXECUÇÃO \n",
    "\n",
    "selecao = [0, 1, 0, 1 ,1, 0, 0, 1, 0, 0, 0, 1, 1, 1]\n",
    "\n",
    "fitness_function(selecao)"
   ]
  },
  {
   "cell_type": "code",
   "execution_count": 233,
   "metadata": {},
   "outputs": [],
   "source": [
    "#IMPORT DOS PACOTES NECESSÁRIOS\n",
    "\n",
    "import six\n",
    "import sys\n",
    "sys.modules['sklearn.externals.six'] = six\n",
    "import mlrose"
   ]
  },
  {
   "cell_type": "code",
   "execution_count": 234,
   "metadata": {},
   "outputs": [],
   "source": [
    "fitness = mlrose.CustomFitness(fitness_function)"
   ]
  },
  {
   "cell_type": "code",
   "execution_count": 235,
   "metadata": {},
   "outputs": [],
   "source": [
    "problema = mlrose.DiscreteOpt(length=14,fitness_fn=fitness, maximize=True, max_val=2)"
   ]
  },
  {
   "attachments": {},
   "cell_type": "markdown",
   "metadata": {},
   "source": [
    "HILL CLIMB"
   ]
  },
  {
   "cell_type": "code",
   "execution_count": 249,
   "metadata": {},
   "outputs": [
    {
     "data": {
      "text/plain": [
       "(array([1, 1, 0, 1, 1, 1, 1, 0, 1, 1, 1, 0, 0, 1]), 18475.809999999998)"
      ]
     },
     "execution_count": 249,
     "metadata": {},
     "output_type": "execute_result"
    }
   ],
   "source": [
    "#MELHOR SOLUÇÃO PELO ALGORITMO DE OTIMIZAÇÃO HILL CLIMB\n",
    "melhor_solucao, melhor_preco = mlrose.hill_climb(problema)\n",
    "melhor_solucao, melhor_preco"
   ]
  },
  {
   "attachments": {},
   "cell_type": "markdown",
   "metadata": {},
   "source": [
    "SIMULATED ANNEALING"
   ]
  },
  {
   "cell_type": "code",
   "execution_count": 237,
   "metadata": {},
   "outputs": [
    {
     "name": "stderr",
     "output_type": "stream",
     "text": [
      "C:\\Users\\horac\\AppData\\Local\\Packages\\PythonSoftwareFoundation.Python.3.10_qbz5n2kfra8p0\\LocalCache\\local-packages\\Python310\\site-packages\\mlrose\\algorithms.py:311: RuntimeWarning: overflow encountered in exp\n",
      "  prob = np.exp(delta_e/temp)\n"
     ]
    },
    {
     "data": {
      "text/plain": [
       "(array([0, 1, 1, 1, 1, 1, 1, 1, 1, 1, 0, 0, 1, 1]), 23282.460000000003)"
      ]
     },
     "execution_count": 237,
     "metadata": {},
     "output_type": "execute_result"
    }
   ],
   "source": [
    "#MELHOR SOLUÇÃO PELO ALGORITMO DE OTIMIZAÇÃO SIMULATED ANNEALING\n",
    "melhor_solucao, melhor_preco = mlrose.simulated_annealing(problema)\n",
    "melhor_solucao, melhor_preco"
   ]
  },
  {
   "attachments": {},
   "cell_type": "markdown",
   "metadata": {},
   "source": [
    "ALGORITMO GENÉTICO"
   ]
  },
  {
   "cell_type": "code",
   "execution_count": 238,
   "metadata": {},
   "outputs": [
    {
     "data": {
      "text/plain": [
       "(array([0, 1, 1, 1, 1, 1, 0, 1, 1, 1, 0, 1, 1, 1]), 24282.45)"
      ]
     },
     "execution_count": 238,
     "metadata": {},
     "output_type": "execute_result"
    }
   ],
   "source": [
    "#MELHOR SOLUÇÃO PELO ALGORITMO DE OTIMIZAÇÃO GENÉTICO\n",
    "melhor_solucao, melhor_preco = mlrose.genetic_alg(problema)\n",
    "melhor_solucao, melhor_preco"
   ]
  }
 ],
 "metadata": {
  "kernelspec": {
   "display_name": "Python 3",
   "language": "python",
   "name": "python3"
  },
  "language_info": {
   "codemirror_mode": {
    "name": "ipython",
    "version": 3
   },
   "file_extension": ".py",
   "mimetype": "text/x-python",
   "name": "python",
   "nbconvert_exporter": "python",
   "pygments_lexer": "ipython3",
   "version": "3.10.10"
  },
  "orig_nbformat": 4,
  "vscode": {
   "interpreter": {
    "hash": "489c0f5637bb21366cd5e2b4c49c372b20939e2e151a6953b6de2a099be3b6ca"
   }
  }
 },
 "nbformat": 4,
 "nbformat_minor": 2
}
